{
 "cells": [
  {
   "cell_type": "markdown",
   "id": "0209c841",
   "metadata": {
    "papermill": {
     "duration": 0.008177,
     "end_time": "2023-02-28T13:37:30.090368",
     "exception": false,
     "start_time": "2023-02-28T13:37:30.082191",
     "status": "completed"
    },
    "tags": []
   },
   "source": [
    "# Diabetes Prediction"
   ]
  },
  {
   "cell_type": "markdown",
   "id": "70719f7a",
   "metadata": {
    "papermill": {
     "duration": 0.006626,
     "end_time": "2023-02-28T13:37:30.103738",
     "exception": false,
     "start_time": "2023-02-28T13:37:30.097112",
     "status": "completed"
    },
    "tags": []
   },
   "source": [
    "![](https://m.economictimes.com/thumb/msid-61997607,width-1200,height-900,resizemode-4,imgsize-175312/suffering-from-diabetes-five-apps-to-help-you-manage-your-lifestyle-better.jpg)\n",
    "[Img Source](https://economictimes.indiatimes.com/magazines/panache/are-you-a-diabetes-patient-five-apps-that-can-help-manage-your-lifestyle-better/articleshow/61997607.cms)"
   ]
  },
  {
   "cell_type": "markdown",
   "id": "a5d86deb",
   "metadata": {
    "papermill": {
     "duration": 0.006347,
     "end_time": "2023-02-28T13:37:30.117300",
     "exception": false,
     "start_time": "2023-02-28T13:37:30.110953",
     "status": "completed"
    },
    "tags": []
   },
   "source": [
    "The Pima Indians Diabetes Database is a widely used dataset in the field of medical research and specifically, in the study of diabetes. The dataset contains information about female patients of Pima Indian heritage, who are 21 years of age or older. The data was collected by the National Institute of Diabetes and Digestive and Kidney Diseases. The objective of this notebook is to use the Pima Indians Diabetes Database to build a predictive model for diabetes using logistic regression. We will be using the popular data science packages in Python, such as pandas, numpy, seaborn, matplotlib and scikit-learn. The logistic regression algorithm from scikit-learn will be used to build our classification model. Our goal is to use the information in the dataset to accurately predict whether a patient has diabetes or not.\n",
    "\n",
    "---"
   ]
  },
  {
   "cell_type": "markdown",
   "id": "f8aedd1f",
   "metadata": {
    "papermill": {
     "duration": 0.006095,
     "end_time": "2023-02-28T13:37:30.130075",
     "exception": false,
     "start_time": "2023-02-28T13:37:30.123980",
     "status": "completed"
    },
    "tags": []
   },
   "source": [
    "# Imports"
   ]
  },
  {
   "cell_type": "code",
   "execution_count": 1,
   "id": "16f4f151",
   "metadata": {
    "_cell_guid": "b1076dfc-b9ad-4769-8c92-a6c4dae69d19",
    "_uuid": "8f2839f25d086af736a60e9eeb907d3b93b6e0e5",
    "execution": {
     "iopub.execute_input": "2023-02-28T13:37:30.146294Z",
     "iopub.status.busy": "2023-02-28T13:37:30.145179Z",
     "iopub.status.idle": "2023-02-28T13:37:31.287087Z",
     "shell.execute_reply": "2023-02-28T13:37:31.285616Z"
    },
    "papermill": {
     "duration": 1.15437,
     "end_time": "2023-02-28T13:37:31.290880",
     "exception": false,
     "start_time": "2023-02-28T13:37:30.136510",
     "status": "completed"
    },
    "tags": []
   },
   "outputs": [],
   "source": [
    "#importing necessary libraries into our code\n",
    "import pandas as pd\n",
    "import numpy as np\n",
    "import matplotlib.pyplot as plt\n",
    "import seaborn as sns\n",
    "%matplotlib inline"
   ]
  },
  {
   "cell_type": "code",
   "execution_count": 2,
   "id": "a9bbdc95",
   "metadata": {
    "execution": {
     "iopub.execute_input": "2023-02-28T13:37:31.307817Z",
     "iopub.status.busy": "2023-02-28T13:37:31.307348Z",
     "iopub.status.idle": "2023-02-28T13:37:31.350519Z",
     "shell.execute_reply": "2023-02-28T13:37:31.348975Z"
    },
    "papermill": {
     "duration": 0.056206,
     "end_time": "2023-02-28T13:37:31.354162",
     "exception": false,
     "start_time": "2023-02-28T13:37:31.297956",
     "status": "completed"
    },
    "tags": []
   },
   "outputs": [
    {
     "data": {
      "text/html": [
       "<div>\n",
       "<style scoped>\n",
       "    .dataframe tbody tr th:only-of-type {\n",
       "        vertical-align: middle;\n",
       "    }\n",
       "\n",
       "    .dataframe tbody tr th {\n",
       "        vertical-align: top;\n",
       "    }\n",
       "\n",
       "    .dataframe thead th {\n",
       "        text-align: right;\n",
       "    }\n",
       "</style>\n",
       "<table border=\"1\" class=\"dataframe\">\n",
       "  <thead>\n",
       "    <tr style=\"text-align: right;\">\n",
       "      <th></th>\n",
       "      <th>Pregnancies</th>\n",
       "      <th>Glucose</th>\n",
       "      <th>BloodPressure</th>\n",
       "      <th>SkinThickness</th>\n",
       "      <th>Insulin</th>\n",
       "      <th>BMI</th>\n",
       "      <th>DiabetesPedigreeFunction</th>\n",
       "      <th>Age</th>\n",
       "      <th>Outcome</th>\n",
       "    </tr>\n",
       "  </thead>\n",
       "  <tbody>\n",
       "    <tr>\n",
       "      <th>0</th>\n",
       "      <td>6</td>\n",
       "      <td>148</td>\n",
       "      <td>72</td>\n",
       "      <td>35</td>\n",
       "      <td>0</td>\n",
       "      <td>33.6</td>\n",
       "      <td>0.627</td>\n",
       "      <td>50</td>\n",
       "      <td>1</td>\n",
       "    </tr>\n",
       "    <tr>\n",
       "      <th>1</th>\n",
       "      <td>1</td>\n",
       "      <td>85</td>\n",
       "      <td>66</td>\n",
       "      <td>29</td>\n",
       "      <td>0</td>\n",
       "      <td>26.6</td>\n",
       "      <td>0.351</td>\n",
       "      <td>31</td>\n",
       "      <td>0</td>\n",
       "    </tr>\n",
       "    <tr>\n",
       "      <th>2</th>\n",
       "      <td>8</td>\n",
       "      <td>183</td>\n",
       "      <td>64</td>\n",
       "      <td>0</td>\n",
       "      <td>0</td>\n",
       "      <td>23.3</td>\n",
       "      <td>0.672</td>\n",
       "      <td>32</td>\n",
       "      <td>1</td>\n",
       "    </tr>\n",
       "    <tr>\n",
       "      <th>3</th>\n",
       "      <td>1</td>\n",
       "      <td>89</td>\n",
       "      <td>66</td>\n",
       "      <td>23</td>\n",
       "      <td>94</td>\n",
       "      <td>28.1</td>\n",
       "      <td>0.167</td>\n",
       "      <td>21</td>\n",
       "      <td>0</td>\n",
       "    </tr>\n",
       "    <tr>\n",
       "      <th>4</th>\n",
       "      <td>0</td>\n",
       "      <td>137</td>\n",
       "      <td>40</td>\n",
       "      <td>35</td>\n",
       "      <td>168</td>\n",
       "      <td>43.1</td>\n",
       "      <td>2.288</td>\n",
       "      <td>33</td>\n",
       "      <td>1</td>\n",
       "    </tr>\n",
       "  </tbody>\n",
       "</table>\n",
       "</div>"
      ],
      "text/plain": [
       "   Pregnancies  Glucose  BloodPressure  SkinThickness  Insulin   BMI  \\\n",
       "0            6      148             72             35        0  33.6   \n",
       "1            1       85             66             29        0  26.6   \n",
       "2            8      183             64              0        0  23.3   \n",
       "3            1       89             66             23       94  28.1   \n",
       "4            0      137             40             35      168  43.1   \n",
       "\n",
       "   DiabetesPedigreeFunction  Age  Outcome  \n",
       "0                     0.627   50        1  \n",
       "1                     0.351   31        0  \n",
       "2                     0.672   32        1  \n",
       "3                     0.167   21        0  \n",
       "4                     2.288   33        1  "
      ]
     },
     "execution_count": 2,
     "metadata": {},
     "output_type": "execute_result"
    }
   ],
   "source": [
    "#loading our dataset\n",
    "DataPath = 'https://raw.githubusercontent.com/knagiel/Reproducible_Research_Project/main/diabetes2.csv'\n",
    "data = pd.read_csv(DataPath)\n",
    "data.head()"
   ]
  },
  {
   "cell_type": "markdown",
   "id": "42bed7d3",
   "metadata": {
    "papermill": {
     "duration": 0.006907,
     "end_time": "2023-02-28T13:37:31.368533",
     "exception": false,
     "start_time": "2023-02-28T13:37:31.361626",
     "status": "completed"
    },
    "tags": []
   },
   "source": [
    "# EDA"
   ]
  },
  {
   "cell_type": "code",
   "execution_count": 3,
   "id": "d083263d",
   "metadata": {
    "execution": {
     "iopub.execute_input": "2023-02-28T13:37:31.384071Z",
     "iopub.status.busy": "2023-02-28T13:37:31.383612Z",
     "iopub.status.idle": "2023-02-28T13:37:31.394208Z",
     "shell.execute_reply": "2023-02-28T13:37:31.392825Z"
    },
    "papermill": {
     "duration": 0.021673,
     "end_time": "2023-02-28T13:37:31.396923",
     "exception": false,
     "start_time": "2023-02-28T13:37:31.375250",
     "status": "completed"
    },
    "tags": []
   },
   "outputs": [
    {
     "data": {
      "text/plain": [
       "Pregnancies                 False\n",
       "Glucose                     False\n",
       "BloodPressure               False\n",
       "SkinThickness               False\n",
       "Insulin                     False\n",
       "BMI                         False\n",
       "DiabetesPedigreeFunction    False\n",
       "Age                         False\n",
       "Outcome                     False\n",
       "dtype: bool"
      ]
     },
     "execution_count": 3,
     "metadata": {},
     "output_type": "execute_result"
    }
   ],
   "source": [
    "data.isna().any()"
   ]
  },
  {
   "cell_type": "code",
   "execution_count": 4,
   "id": "1d865009",
   "metadata": {
    "execution": {
     "iopub.execute_input": "2023-02-28T13:37:31.414273Z",
     "iopub.status.busy": "2023-02-28T13:37:31.413793Z",
     "iopub.status.idle": "2023-02-28T13:37:31.419959Z",
     "shell.execute_reply": "2023-02-28T13:37:31.419048Z"
    },
    "papermill": {
     "duration": 0.017899,
     "end_time": "2023-02-28T13:37:31.422201",
     "exception": false,
     "start_time": "2023-02-28T13:37:31.404302",
     "status": "completed"
    },
    "tags": []
   },
   "outputs": [
    {
     "data": {
      "text/plain": [
       "(768, 9)"
      ]
     },
     "execution_count": 4,
     "metadata": {},
     "output_type": "execute_result"
    }
   ],
   "source": [
    "data.shape"
   ]
  },
  {
   "cell_type": "code",
   "execution_count": 5,
   "id": "04133b89",
   "metadata": {
    "execution": {
     "iopub.execute_input": "2023-02-28T13:37:31.440079Z",
     "iopub.status.busy": "2023-02-28T13:37:31.439390Z",
     "iopub.status.idle": "2023-02-28T13:37:31.453500Z",
     "shell.execute_reply": "2023-02-28T13:37:31.452257Z"
    },
    "papermill": {
     "duration": 0.026894,
     "end_time": "2023-02-28T13:37:31.456347",
     "exception": false,
     "start_time": "2023-02-28T13:37:31.429453",
     "status": "completed"
    },
    "tags": []
   },
   "outputs": [
    {
     "data": {
      "text/plain": [
       "Pregnancies                  17\n",
       "Glucose                     136\n",
       "BloodPressure                47\n",
       "SkinThickness                51\n",
       "Insulin                     186\n",
       "BMI                         248\n",
       "DiabetesPedigreeFunction    517\n",
       "Age                          52\n",
       "Outcome                       2\n",
       "dtype: int64"
      ]
     },
     "execution_count": 5,
     "metadata": {},
     "output_type": "execute_result"
    }
   ],
   "source": [
    "data.nunique()"
   ]
  },
  {
   "cell_type": "code",
   "execution_count": 6,
   "id": "8f3b1628",
   "metadata": {
    "execution": {
     "iopub.execute_input": "2023-02-28T13:37:31.472959Z",
     "iopub.status.busy": "2023-02-28T13:37:31.472514Z",
     "iopub.status.idle": "2023-02-28T13:37:31.495578Z",
     "shell.execute_reply": "2023-02-28T13:37:31.494387Z"
    },
    "papermill": {
     "duration": 0.034731,
     "end_time": "2023-02-28T13:37:31.498644",
     "exception": false,
     "start_time": "2023-02-28T13:37:31.463913",
     "status": "completed"
    },
    "tags": []
   },
   "outputs": [
    {
     "data": {
      "text/html": [
       "<div>\n",
       "<style scoped>\n",
       "    .dataframe tbody tr th:only-of-type {\n",
       "        vertical-align: middle;\n",
       "    }\n",
       "\n",
       "    .dataframe tbody tr th {\n",
       "        vertical-align: top;\n",
       "    }\n",
       "\n",
       "    .dataframe thead th {\n",
       "        text-align: right;\n",
       "    }\n",
       "</style>\n",
       "<table border=\"1\" class=\"dataframe\">\n",
       "  <thead>\n",
       "    <tr style=\"text-align: right;\">\n",
       "      <th></th>\n",
       "      <th>Pregnancies</th>\n",
       "      <th>Glucose</th>\n",
       "      <th>BloodPressure</th>\n",
       "      <th>SkinThickness</th>\n",
       "      <th>Insulin</th>\n",
       "      <th>BMI</th>\n",
       "      <th>DiabetesPedigreeFunction</th>\n",
       "      <th>Age</th>\n",
       "      <th>Outcome</th>\n",
       "    </tr>\n",
       "  </thead>\n",
       "  <tbody>\n",
       "    <tr>\n",
       "      <th>Pregnancies</th>\n",
       "      <td>1.000000</td>\n",
       "      <td>0.129459</td>\n",
       "      <td>0.141282</td>\n",
       "      <td>-0.081672</td>\n",
       "      <td>-0.073535</td>\n",
       "      <td>0.017683</td>\n",
       "      <td>-0.033523</td>\n",
       "      <td>0.544341</td>\n",
       "      <td>0.221898</td>\n",
       "    </tr>\n",
       "    <tr>\n",
       "      <th>Glucose</th>\n",
       "      <td>0.129459</td>\n",
       "      <td>1.000000</td>\n",
       "      <td>0.152590</td>\n",
       "      <td>0.057328</td>\n",
       "      <td>0.331357</td>\n",
       "      <td>0.221071</td>\n",
       "      <td>0.137337</td>\n",
       "      <td>0.263514</td>\n",
       "      <td>0.466581</td>\n",
       "    </tr>\n",
       "    <tr>\n",
       "      <th>BloodPressure</th>\n",
       "      <td>0.141282</td>\n",
       "      <td>0.152590</td>\n",
       "      <td>1.000000</td>\n",
       "      <td>0.207371</td>\n",
       "      <td>0.088933</td>\n",
       "      <td>0.281805</td>\n",
       "      <td>0.041265</td>\n",
       "      <td>0.239528</td>\n",
       "      <td>0.065068</td>\n",
       "    </tr>\n",
       "    <tr>\n",
       "      <th>SkinThickness</th>\n",
       "      <td>-0.081672</td>\n",
       "      <td>0.057328</td>\n",
       "      <td>0.207371</td>\n",
       "      <td>1.000000</td>\n",
       "      <td>0.436783</td>\n",
       "      <td>0.392573</td>\n",
       "      <td>0.183928</td>\n",
       "      <td>-0.113970</td>\n",
       "      <td>0.074752</td>\n",
       "    </tr>\n",
       "    <tr>\n",
       "      <th>Insulin</th>\n",
       "      <td>-0.073535</td>\n",
       "      <td>0.331357</td>\n",
       "      <td>0.088933</td>\n",
       "      <td>0.436783</td>\n",
       "      <td>1.000000</td>\n",
       "      <td>0.197859</td>\n",
       "      <td>0.185071</td>\n",
       "      <td>-0.042163</td>\n",
       "      <td>0.130548</td>\n",
       "    </tr>\n",
       "    <tr>\n",
       "      <th>BMI</th>\n",
       "      <td>0.017683</td>\n",
       "      <td>0.221071</td>\n",
       "      <td>0.281805</td>\n",
       "      <td>0.392573</td>\n",
       "      <td>0.197859</td>\n",
       "      <td>1.000000</td>\n",
       "      <td>0.140647</td>\n",
       "      <td>0.036242</td>\n",
       "      <td>0.292695</td>\n",
       "    </tr>\n",
       "    <tr>\n",
       "      <th>DiabetesPedigreeFunction</th>\n",
       "      <td>-0.033523</td>\n",
       "      <td>0.137337</td>\n",
       "      <td>0.041265</td>\n",
       "      <td>0.183928</td>\n",
       "      <td>0.185071</td>\n",
       "      <td>0.140647</td>\n",
       "      <td>1.000000</td>\n",
       "      <td>0.033561</td>\n",
       "      <td>0.173844</td>\n",
       "    </tr>\n",
       "    <tr>\n",
       "      <th>Age</th>\n",
       "      <td>0.544341</td>\n",
       "      <td>0.263514</td>\n",
       "      <td>0.239528</td>\n",
       "      <td>-0.113970</td>\n",
       "      <td>-0.042163</td>\n",
       "      <td>0.036242</td>\n",
       "      <td>0.033561</td>\n",
       "      <td>1.000000</td>\n",
       "      <td>0.238356</td>\n",
       "    </tr>\n",
       "    <tr>\n",
       "      <th>Outcome</th>\n",
       "      <td>0.221898</td>\n",
       "      <td>0.466581</td>\n",
       "      <td>0.065068</td>\n",
       "      <td>0.074752</td>\n",
       "      <td>0.130548</td>\n",
       "      <td>0.292695</td>\n",
       "      <td>0.173844</td>\n",
       "      <td>0.238356</td>\n",
       "      <td>1.000000</td>\n",
       "    </tr>\n",
       "  </tbody>\n",
       "</table>\n",
       "</div>"
      ],
      "text/plain": [
       "                          Pregnancies   Glucose  BloodPressure  SkinThickness  \\\n",
       "Pregnancies                  1.000000  0.129459       0.141282      -0.081672   \n",
       "Glucose                      0.129459  1.000000       0.152590       0.057328   \n",
       "BloodPressure                0.141282  0.152590       1.000000       0.207371   \n",
       "SkinThickness               -0.081672  0.057328       0.207371       1.000000   \n",
       "Insulin                     -0.073535  0.331357       0.088933       0.436783   \n",
       "BMI                          0.017683  0.221071       0.281805       0.392573   \n",
       "DiabetesPedigreeFunction    -0.033523  0.137337       0.041265       0.183928   \n",
       "Age                          0.544341  0.263514       0.239528      -0.113970   \n",
       "Outcome                      0.221898  0.466581       0.065068       0.074752   \n",
       "\n",
       "                           Insulin       BMI  DiabetesPedigreeFunction  \\\n",
       "Pregnancies              -0.073535  0.017683                 -0.033523   \n",
       "Glucose                   0.331357  0.221071                  0.137337   \n",
       "BloodPressure             0.088933  0.281805                  0.041265   \n",
       "SkinThickness             0.436783  0.392573                  0.183928   \n",
       "Insulin                   1.000000  0.197859                  0.185071   \n",
       "BMI                       0.197859  1.000000                  0.140647   \n",
       "DiabetesPedigreeFunction  0.185071  0.140647                  1.000000   \n",
       "Age                      -0.042163  0.036242                  0.033561   \n",
       "Outcome                   0.130548  0.292695                  0.173844   \n",
       "\n",
       "                               Age   Outcome  \n",
       "Pregnancies               0.544341  0.221898  \n",
       "Glucose                   0.263514  0.466581  \n",
       "BloodPressure             0.239528  0.065068  \n",
       "SkinThickness            -0.113970  0.074752  \n",
       "Insulin                  -0.042163  0.130548  \n",
       "BMI                       0.036242  0.292695  \n",
       "DiabetesPedigreeFunction  0.033561  0.173844  \n",
       "Age                       1.000000  0.238356  \n",
       "Outcome                   0.238356  1.000000  "
      ]
     },
     "execution_count": 6,
     "metadata": {},
     "output_type": "execute_result"
    }
   ],
   "source": [
    "data.corr()"
   ]
  },
  {
   "cell_type": "code",
   "execution_count": 7,
   "id": "c65eee77",
   "metadata": {
    "execution": {
     "iopub.execute_input": "2023-02-28T13:37:31.516508Z",
     "iopub.status.busy": "2023-02-28T13:37:31.515211Z",
     "iopub.status.idle": "2023-02-28T13:37:31.538493Z",
     "shell.execute_reply": "2023-02-28T13:37:31.536840Z"
    },
    "papermill": {
     "duration": 0.035199,
     "end_time": "2023-02-28T13:37:31.541448",
     "exception": false,
     "start_time": "2023-02-28T13:37:31.506249",
     "status": "completed"
    },
    "tags": []
   },
   "outputs": [
    {
     "name": "stdout",
     "output_type": "stream",
     "text": [
      "<class 'pandas.core.frame.DataFrame'>\n",
      "RangeIndex: 768 entries, 0 to 767\n",
      "Data columns (total 9 columns):\n",
      " #   Column                    Non-Null Count  Dtype  \n",
      "---  ------                    --------------  -----  \n",
      " 0   Pregnancies               768 non-null    int64  \n",
      " 1   Glucose                   768 non-null    int64  \n",
      " 2   BloodPressure             768 non-null    int64  \n",
      " 3   SkinThickness             768 non-null    int64  \n",
      " 4   Insulin                   768 non-null    int64  \n",
      " 5   BMI                       768 non-null    float64\n",
      " 6   DiabetesPedigreeFunction  768 non-null    float64\n",
      " 7   Age                       768 non-null    int64  \n",
      " 8   Outcome                   768 non-null    int64  \n",
      "dtypes: float64(2), int64(7)\n",
      "memory usage: 54.1 KB\n"
     ]
    }
   ],
   "source": [
    "data.info()"
   ]
  },
  {
   "cell_type": "code",
   "execution_count": 8,
   "id": "cdef5d9f",
   "metadata": {
    "execution": {
     "iopub.execute_input": "2023-02-28T13:37:31.558872Z",
     "iopub.status.busy": "2023-02-28T13:37:31.558402Z",
     "iopub.status.idle": "2023-02-28T13:37:31.599174Z",
     "shell.execute_reply": "2023-02-28T13:37:31.597858Z"
    },
    "papermill": {
     "duration": 0.052643,
     "end_time": "2023-02-28T13:37:31.601999",
     "exception": false,
     "start_time": "2023-02-28T13:37:31.549356",
     "status": "completed"
    },
    "tags": []
   },
   "outputs": [
    {
     "data": {
      "text/html": [
       "<div>\n",
       "<style scoped>\n",
       "    .dataframe tbody tr th:only-of-type {\n",
       "        vertical-align: middle;\n",
       "    }\n",
       "\n",
       "    .dataframe tbody tr th {\n",
       "        vertical-align: top;\n",
       "    }\n",
       "\n",
       "    .dataframe thead th {\n",
       "        text-align: right;\n",
       "    }\n",
       "</style>\n",
       "<table border=\"1\" class=\"dataframe\">\n",
       "  <thead>\n",
       "    <tr style=\"text-align: right;\">\n",
       "      <th></th>\n",
       "      <th>Pregnancies</th>\n",
       "      <th>Glucose</th>\n",
       "      <th>BloodPressure</th>\n",
       "      <th>SkinThickness</th>\n",
       "      <th>Insulin</th>\n",
       "      <th>BMI</th>\n",
       "      <th>DiabetesPedigreeFunction</th>\n",
       "      <th>Age</th>\n",
       "      <th>Outcome</th>\n",
       "    </tr>\n",
       "  </thead>\n",
       "  <tbody>\n",
       "    <tr>\n",
       "      <th>count</th>\n",
       "      <td>768.000000</td>\n",
       "      <td>768.000000</td>\n",
       "      <td>768.000000</td>\n",
       "      <td>768.000000</td>\n",
       "      <td>768.000000</td>\n",
       "      <td>768.000000</td>\n",
       "      <td>768.000000</td>\n",
       "      <td>768.000000</td>\n",
       "      <td>768.000000</td>\n",
       "    </tr>\n",
       "    <tr>\n",
       "      <th>mean</th>\n",
       "      <td>3.845052</td>\n",
       "      <td>120.894531</td>\n",
       "      <td>69.105469</td>\n",
       "      <td>20.536458</td>\n",
       "      <td>79.799479</td>\n",
       "      <td>31.992578</td>\n",
       "      <td>0.471876</td>\n",
       "      <td>33.240885</td>\n",
       "      <td>0.348958</td>\n",
       "    </tr>\n",
       "    <tr>\n",
       "      <th>std</th>\n",
       "      <td>3.369578</td>\n",
       "      <td>31.972618</td>\n",
       "      <td>19.355807</td>\n",
       "      <td>15.952218</td>\n",
       "      <td>115.244002</td>\n",
       "      <td>7.884160</td>\n",
       "      <td>0.331329</td>\n",
       "      <td>11.760232</td>\n",
       "      <td>0.476951</td>\n",
       "    </tr>\n",
       "    <tr>\n",
       "      <th>min</th>\n",
       "      <td>0.000000</td>\n",
       "      <td>0.000000</td>\n",
       "      <td>0.000000</td>\n",
       "      <td>0.000000</td>\n",
       "      <td>0.000000</td>\n",
       "      <td>0.000000</td>\n",
       "      <td>0.078000</td>\n",
       "      <td>21.000000</td>\n",
       "      <td>0.000000</td>\n",
       "    </tr>\n",
       "    <tr>\n",
       "      <th>25%</th>\n",
       "      <td>1.000000</td>\n",
       "      <td>99.000000</td>\n",
       "      <td>62.000000</td>\n",
       "      <td>0.000000</td>\n",
       "      <td>0.000000</td>\n",
       "      <td>27.300000</td>\n",
       "      <td>0.243750</td>\n",
       "      <td>24.000000</td>\n",
       "      <td>0.000000</td>\n",
       "    </tr>\n",
       "    <tr>\n",
       "      <th>50%</th>\n",
       "      <td>3.000000</td>\n",
       "      <td>117.000000</td>\n",
       "      <td>72.000000</td>\n",
       "      <td>23.000000</td>\n",
       "      <td>30.500000</td>\n",
       "      <td>32.000000</td>\n",
       "      <td>0.372500</td>\n",
       "      <td>29.000000</td>\n",
       "      <td>0.000000</td>\n",
       "    </tr>\n",
       "    <tr>\n",
       "      <th>75%</th>\n",
       "      <td>6.000000</td>\n",
       "      <td>140.250000</td>\n",
       "      <td>80.000000</td>\n",
       "      <td>32.000000</td>\n",
       "      <td>127.250000</td>\n",
       "      <td>36.600000</td>\n",
       "      <td>0.626250</td>\n",
       "      <td>41.000000</td>\n",
       "      <td>1.000000</td>\n",
       "    </tr>\n",
       "    <tr>\n",
       "      <th>max</th>\n",
       "      <td>17.000000</td>\n",
       "      <td>199.000000</td>\n",
       "      <td>122.000000</td>\n",
       "      <td>99.000000</td>\n",
       "      <td>846.000000</td>\n",
       "      <td>67.100000</td>\n",
       "      <td>2.420000</td>\n",
       "      <td>81.000000</td>\n",
       "      <td>1.000000</td>\n",
       "    </tr>\n",
       "  </tbody>\n",
       "</table>\n",
       "</div>"
      ],
      "text/plain": [
       "       Pregnancies     Glucose  BloodPressure  SkinThickness     Insulin  \\\n",
       "count   768.000000  768.000000     768.000000     768.000000  768.000000   \n",
       "mean      3.845052  120.894531      69.105469      20.536458   79.799479   \n",
       "std       3.369578   31.972618      19.355807      15.952218  115.244002   \n",
       "min       0.000000    0.000000       0.000000       0.000000    0.000000   \n",
       "25%       1.000000   99.000000      62.000000       0.000000    0.000000   \n",
       "50%       3.000000  117.000000      72.000000      23.000000   30.500000   \n",
       "75%       6.000000  140.250000      80.000000      32.000000  127.250000   \n",
       "max      17.000000  199.000000     122.000000      99.000000  846.000000   \n",
       "\n",
       "              BMI  DiabetesPedigreeFunction         Age     Outcome  \n",
       "count  768.000000                768.000000  768.000000  768.000000  \n",
       "mean    31.992578                  0.471876   33.240885    0.348958  \n",
       "std      7.884160                  0.331329   11.760232    0.476951  \n",
       "min      0.000000                  0.078000   21.000000    0.000000  \n",
       "25%     27.300000                  0.243750   24.000000    0.000000  \n",
       "50%     32.000000                  0.372500   29.000000    0.000000  \n",
       "75%     36.600000                  0.626250   41.000000    1.000000  \n",
       "max     67.100000                  2.420000   81.000000    1.000000  "
      ]
     },
     "execution_count": 8,
     "metadata": {},
     "output_type": "execute_result"
    }
   ],
   "source": [
    "data.describe()"
   ]
  },
  {
   "cell_type": "markdown",
   "id": "40dba36a",
   "metadata": {
    "papermill": {
     "duration": 0.00733,
     "end_time": "2023-02-28T13:37:31.617143",
     "exception": false,
     "start_time": "2023-02-28T13:37:31.609813",
     "status": "completed"
    },
    "tags": []
   },
   "source": [
    "# Data Processing"
   ]
  },
  {
   "cell_type": "code",
   "execution_count": 9,
   "id": "de7e994f",
   "metadata": {
    "execution": {
     "iopub.execute_input": "2023-02-28T13:37:31.635356Z",
     "iopub.status.busy": "2023-02-28T13:37:31.633966Z",
     "iopub.status.idle": "2023-02-28T13:37:31.641824Z",
     "shell.execute_reply": "2023-02-28T13:37:31.640619Z"
    },
    "papermill": {
     "duration": 0.019698,
     "end_time": "2023-02-28T13:37:31.644363",
     "exception": false,
     "start_time": "2023-02-28T13:37:31.624665",
     "status": "completed"
    },
    "tags": []
   },
   "outputs": [],
   "source": [
    "#split the dataset into x and y values\n",
    "#x-independent variables\n",
    "#y-dependent variables\n",
    "features = ['Pregnancies','Glucose','BloodPressure','SkinThickness','Insulin','BMI','DiabetesPedigreeFunction','Age']\n",
    "x = data[features]\n",
    "y = data.Outcome"
   ]
  },
  {
   "cell_type": "code",
   "execution_count": 10,
   "id": "54486162",
   "metadata": {
    "execution": {
     "iopub.execute_input": "2023-02-28T13:37:31.661601Z",
     "iopub.status.busy": "2023-02-28T13:37:31.661185Z",
     "iopub.status.idle": "2023-02-28T13:37:31.871424Z",
     "shell.execute_reply": "2023-02-28T13:37:31.870239Z"
    },
    "papermill": {
     "duration": 0.222331,
     "end_time": "2023-02-28T13:37:31.874400",
     "exception": false,
     "start_time": "2023-02-28T13:37:31.652069",
     "status": "completed"
    },
    "tags": []
   },
   "outputs": [],
   "source": [
    "#splitting the dataset into features and target variables\n",
    "from sklearn.model_selection import train_test_split\n",
    "x_train, x_test, y_train, y_test = train_test_split (x,y,test_size = 0.10, random_state = 0)"
   ]
  },
  {
   "cell_type": "markdown",
   "id": "fa8f2c09",
   "metadata": {
    "papermill": {
     "duration": 0.008051,
     "end_time": "2023-02-28T13:37:31.894996",
     "exception": false,
     "start_time": "2023-02-28T13:37:31.886945",
     "status": "completed"
    },
    "tags": []
   },
   "source": [
    "# Logistic Regression Model"
   ]
  },
  {
   "cell_type": "code",
   "execution_count": 11,
   "id": "d2dec741",
   "metadata": {
    "execution": {
     "iopub.execute_input": "2023-02-28T13:37:31.913195Z",
     "iopub.status.busy": "2023-02-28T13:37:31.912743Z",
     "iopub.status.idle": "2023-02-28T13:37:31.988870Z",
     "shell.execute_reply": "2023-02-28T13:37:31.987576Z"
    },
    "papermill": {
     "duration": 0.088504,
     "end_time": "2023-02-28T13:37:31.991915",
     "exception": false,
     "start_time": "2023-02-28T13:37:31.903411",
     "status": "completed"
    },
    "tags": []
   },
   "outputs": [],
   "source": [
    "from sklearn.linear_model import LogisticRegression\n",
    "\n",
    "#instantiate the model using the default parameters\n",
    "reg = LogisticRegression (max_iter = 1000)"
   ]
  },
  {
   "cell_type": "code",
   "execution_count": 12,
   "id": "c6c90da9",
   "metadata": {
    "execution": {
     "iopub.execute_input": "2023-02-28T13:37:32.009725Z",
     "iopub.status.busy": "2023-02-28T13:37:32.009303Z",
     "iopub.status.idle": "2023-02-28T13:37:32.065624Z",
     "shell.execute_reply": "2023-02-28T13:37:32.064385Z"
    },
    "papermill": {
     "duration": 0.06868,
     "end_time": "2023-02-28T13:37:32.068475",
     "exception": false,
     "start_time": "2023-02-28T13:37:31.999795",
     "status": "completed"
    },
    "tags": []
   },
   "outputs": [
    {
     "data": {
      "text/plain": [
       "LogisticRegression(max_iter=1000)"
      ]
     },
     "execution_count": 12,
     "metadata": {},
     "output_type": "execute_result"
    }
   ],
   "source": [
    "#fit the model with the data\n",
    "reg.fit(x_train, y_train)"
   ]
  },
  {
   "cell_type": "code",
   "execution_count": 13,
   "id": "30cff3cd",
   "metadata": {
    "execution": {
     "iopub.execute_input": "2023-02-28T13:37:32.086671Z",
     "iopub.status.busy": "2023-02-28T13:37:32.086257Z",
     "iopub.status.idle": "2023-02-28T13:37:32.097278Z",
     "shell.execute_reply": "2023-02-28T13:37:32.095857Z"
    },
    "papermill": {
     "duration": 0.023624,
     "end_time": "2023-02-28T13:37:32.100262",
     "exception": false,
     "start_time": "2023-02-28T13:37:32.076638",
     "status": "completed"
    },
    "tags": []
   },
   "outputs": [
    {
     "data": {
      "text/plain": [
       "array([1, 0, 0, 1, 0, 0, 1, 1, 0, 0, 1, 1, 0, 0, 0, 0, 1, 0, 0, 0, 1, 0,\n",
       "       0, 0, 0, 0, 0, 1, 0, 0, 0, 0, 0, 0, 0, 1, 0, 0, 0, 1, 0, 0, 0, 1,\n",
       "       1, 0, 0, 0, 0, 0, 0, 0, 1, 0, 0, 0, 0, 1, 0, 0, 1, 0, 0, 1, 1, 1,\n",
       "       1, 0, 0, 0, 0, 0, 0, 1, 1, 0, 0])"
      ]
     },
     "execution_count": 13,
     "metadata": {},
     "output_type": "execute_result"
    }
   ],
   "source": [
    "#predicting the output for our test set\n",
    "y_pred = reg.predict(x_test)\n",
    "y_pred"
   ]
  },
  {
   "cell_type": "code",
   "execution_count": 14,
   "id": "60b7dbec",
   "metadata": {
    "execution": {
     "iopub.execute_input": "2023-02-28T13:37:32.118889Z",
     "iopub.status.busy": "2023-02-28T13:37:32.117958Z",
     "iopub.status.idle": "2023-02-28T13:37:32.136852Z",
     "shell.execute_reply": "2023-02-28T13:37:32.135515Z"
    },
    "papermill": {
     "duration": 0.031061,
     "end_time": "2023-02-28T13:37:32.139486",
     "exception": false,
     "start_time": "2023-02-28T13:37:32.108425",
     "status": "completed"
    },
    "tags": []
   },
   "outputs": [
    {
     "data": {
      "text/html": [
       "<div>\n",
       "<style scoped>\n",
       "    .dataframe tbody tr th:only-of-type {\n",
       "        vertical-align: middle;\n",
       "    }\n",
       "\n",
       "    .dataframe tbody tr th {\n",
       "        vertical-align: top;\n",
       "    }\n",
       "\n",
       "    .dataframe thead th {\n",
       "        text-align: right;\n",
       "    }\n",
       "</style>\n",
       "<table border=\"1\" class=\"dataframe\">\n",
       "  <thead>\n",
       "    <tr style=\"text-align: right;\">\n",
       "      <th></th>\n",
       "      <th>Pregnancies</th>\n",
       "      <th>Glucose</th>\n",
       "      <th>BloodPressure</th>\n",
       "      <th>SkinThickness</th>\n",
       "      <th>Insulin</th>\n",
       "      <th>BMI</th>\n",
       "      <th>DiabetesPedigreeFunction</th>\n",
       "      <th>Age</th>\n",
       "    </tr>\n",
       "  </thead>\n",
       "  <tbody>\n",
       "    <tr>\n",
       "      <th>661</th>\n",
       "      <td>1</td>\n",
       "      <td>199</td>\n",
       "      <td>76</td>\n",
       "      <td>43</td>\n",
       "      <td>0</td>\n",
       "      <td>42.9</td>\n",
       "      <td>1.394</td>\n",
       "      <td>22</td>\n",
       "    </tr>\n",
       "    <tr>\n",
       "      <th>122</th>\n",
       "      <td>2</td>\n",
       "      <td>107</td>\n",
       "      <td>74</td>\n",
       "      <td>30</td>\n",
       "      <td>100</td>\n",
       "      <td>33.6</td>\n",
       "      <td>0.404</td>\n",
       "      <td>23</td>\n",
       "    </tr>\n",
       "    <tr>\n",
       "      <th>113</th>\n",
       "      <td>4</td>\n",
       "      <td>76</td>\n",
       "      <td>62</td>\n",
       "      <td>0</td>\n",
       "      <td>0</td>\n",
       "      <td>34.0</td>\n",
       "      <td>0.391</td>\n",
       "      <td>25</td>\n",
       "    </tr>\n",
       "    <tr>\n",
       "      <th>14</th>\n",
       "      <td>5</td>\n",
       "      <td>166</td>\n",
       "      <td>72</td>\n",
       "      <td>19</td>\n",
       "      <td>175</td>\n",
       "      <td>25.8</td>\n",
       "      <td>0.587</td>\n",
       "      <td>51</td>\n",
       "    </tr>\n",
       "    <tr>\n",
       "      <th>529</th>\n",
       "      <td>0</td>\n",
       "      <td>111</td>\n",
       "      <td>65</td>\n",
       "      <td>0</td>\n",
       "      <td>0</td>\n",
       "      <td>24.6</td>\n",
       "      <td>0.660</td>\n",
       "      <td>31</td>\n",
       "    </tr>\n",
       "    <tr>\n",
       "      <th>...</th>\n",
       "      <td>...</td>\n",
       "      <td>...</td>\n",
       "      <td>...</td>\n",
       "      <td>...</td>\n",
       "      <td>...</td>\n",
       "      <td>...</td>\n",
       "      <td>...</td>\n",
       "      <td>...</td>\n",
       "    </tr>\n",
       "    <tr>\n",
       "      <th>253</th>\n",
       "      <td>0</td>\n",
       "      <td>86</td>\n",
       "      <td>68</td>\n",
       "      <td>32</td>\n",
       "      <td>0</td>\n",
       "      <td>35.8</td>\n",
       "      <td>0.238</td>\n",
       "      <td>25</td>\n",
       "    </tr>\n",
       "    <tr>\n",
       "      <th>622</th>\n",
       "      <td>6</td>\n",
       "      <td>183</td>\n",
       "      <td>94</td>\n",
       "      <td>0</td>\n",
       "      <td>0</td>\n",
       "      <td>40.8</td>\n",
       "      <td>1.461</td>\n",
       "      <td>45</td>\n",
       "    </tr>\n",
       "    <tr>\n",
       "      <th>235</th>\n",
       "      <td>4</td>\n",
       "      <td>171</td>\n",
       "      <td>72</td>\n",
       "      <td>0</td>\n",
       "      <td>0</td>\n",
       "      <td>43.6</td>\n",
       "      <td>0.479</td>\n",
       "      <td>26</td>\n",
       "    </tr>\n",
       "    <tr>\n",
       "      <th>351</th>\n",
       "      <td>4</td>\n",
       "      <td>137</td>\n",
       "      <td>84</td>\n",
       "      <td>0</td>\n",
       "      <td>0</td>\n",
       "      <td>31.2</td>\n",
       "      <td>0.252</td>\n",
       "      <td>30</td>\n",
       "    </tr>\n",
       "    <tr>\n",
       "      <th>672</th>\n",
       "      <td>10</td>\n",
       "      <td>68</td>\n",
       "      <td>106</td>\n",
       "      <td>23</td>\n",
       "      <td>49</td>\n",
       "      <td>35.5</td>\n",
       "      <td>0.285</td>\n",
       "      <td>47</td>\n",
       "    </tr>\n",
       "  </tbody>\n",
       "</table>\n",
       "<p>77 rows × 8 columns</p>\n",
       "</div>"
      ],
      "text/plain": [
       "     Pregnancies  Glucose  BloodPressure  SkinThickness  Insulin   BMI  \\\n",
       "661            1      199             76             43        0  42.9   \n",
       "122            2      107             74             30      100  33.6   \n",
       "113            4       76             62              0        0  34.0   \n",
       "14             5      166             72             19      175  25.8   \n",
       "529            0      111             65              0        0  24.6   \n",
       "..           ...      ...            ...            ...      ...   ...   \n",
       "253            0       86             68             32        0  35.8   \n",
       "622            6      183             94              0        0  40.8   \n",
       "235            4      171             72              0        0  43.6   \n",
       "351            4      137             84              0        0  31.2   \n",
       "672           10       68            106             23       49  35.5   \n",
       "\n",
       "     DiabetesPedigreeFunction  Age  \n",
       "661                     1.394   22  \n",
       "122                     0.404   23  \n",
       "113                     0.391   25  \n",
       "14                      0.587   51  \n",
       "529                     0.660   31  \n",
       "..                        ...  ...  \n",
       "253                     0.238   25  \n",
       "622                     1.461   45  \n",
       "235                     0.479   26  \n",
       "351                     0.252   30  \n",
       "672                     0.285   47  \n",
       "\n",
       "[77 rows x 8 columns]"
      ]
     },
     "execution_count": 14,
     "metadata": {},
     "output_type": "execute_result"
    }
   ],
   "source": [
    "x_test"
   ]
  },
  {
   "cell_type": "code",
   "execution_count": 15,
   "id": "5b6b30bd",
   "metadata": {
    "execution": {
     "iopub.execute_input": "2023-02-28T13:37:32.158656Z",
     "iopub.status.busy": "2023-02-28T13:37:32.158199Z",
     "iopub.status.idle": "2023-02-28T13:37:32.171060Z",
     "shell.execute_reply": "2023-02-28T13:37:32.169547Z"
    },
    "papermill": {
     "duration": 0.025494,
     "end_time": "2023-02-28T13:37:32.173476",
     "exception": false,
     "start_time": "2023-02-28T13:37:32.147982",
     "status": "completed"
    },
    "tags": []
   },
   "outputs": [
    {
     "data": {
      "text/plain": [
       "array([[48,  3],\n",
       "       [ 7, 19]])"
      ]
     },
     "execution_count": 15,
     "metadata": {},
     "output_type": "execute_result"
    }
   ],
   "source": [
    "from sklearn import metrics\n",
    "cnf_matrix = metrics.confusion_matrix(y_test, y_pred)\n",
    "cnf_matrix"
   ]
  },
  {
   "cell_type": "code",
   "execution_count": 16,
   "id": "9507df2b",
   "metadata": {
    "execution": {
     "iopub.execute_input": "2023-02-28T13:37:32.192338Z",
     "iopub.status.busy": "2023-02-28T13:37:32.191870Z",
     "iopub.status.idle": "2023-02-28T13:37:32.608195Z",
     "shell.execute_reply": "2023-02-28T13:37:32.606859Z"
    },
    "papermill": {
     "duration": 0.428972,
     "end_time": "2023-02-28T13:37:32.611078",
     "exception": false,
     "start_time": "2023-02-28T13:37:32.182106",
     "status": "completed"
    },
    "tags": []
   },
   "outputs": [
    {
     "data": {
      "text/plain": [
       "Text(0.5, 257.44, 'Predicted Label')"
      ]
     },
     "execution_count": 16,
     "metadata": {},
     "output_type": "execute_result"
    },
    {
     "data": {
      "image/png": "[encoded data removed]",
      "text/plain": [
       "<Figure size 432x288 with 2 Axes>"
      ]
     },
     "metadata": {
      "needs_background": "light"
     },
     "output_type": "display_data"
    }
   ],
   "source": [
    "#plotting confusion matrix\n",
    "class_names = [0,1]\n",
    "fig, ax = plt.subplots()\n",
    "tick_marks = np.arange(len(class_names))\n",
    "plt.xticks(tick_marks, class_names)\n",
    "plt.yticks(tick_marks, class_names)\n",
    "\n",
    "#create heatmap\n",
    "sns.heatmap(pd.DataFrame(cnf_matrix), annot=True, cmap=\"YlGnBu\", fmt='g')\n",
    "ax.xaxis.set_label_position(\"top\")\n",
    "plt.tight_layout()\n",
    "plt.title('Confusion Matrix', y=1.1)\n",
    "plt.ylabel('Actual Label')\n",
    "plt.xlabel('Predicted Label')\n"
   ]
  },
  {
   "cell_type": "code",
   "execution_count": 17,
   "id": "4c0c8148",
   "metadata": {
    "execution": {
     "iopub.execute_input": "2023-02-28T13:37:32.631631Z",
     "iopub.status.busy": "2023-02-28T13:37:32.630598Z",
     "iopub.status.idle": "2023-02-28T13:37:32.638961Z",
     "shell.execute_reply": "2023-02-28T13:37:32.637551Z"
    },
    "papermill": {
     "duration": 0.021466,
     "end_time": "2023-02-28T13:37:32.641597",
     "exception": false,
     "start_time": "2023-02-28T13:37:32.620131",
     "status": "completed"
    },
    "tags": []
   },
   "outputs": [
    {
     "name": "stdout",
     "output_type": "stream",
     "text": [
      "Accuracy :  0.8701298701298701\n"
     ]
    }
   ],
   "source": [
    "print(\"Accuracy : \", metrics.accuracy_score(y_test, y_pred))"
   ]
  },
  {
   "cell_type": "code",
   "execution_count": 18,
   "id": "549fe21a",
   "metadata": {
    "execution": {
     "iopub.execute_input": "2023-02-28T13:37:32.661618Z",
     "iopub.status.busy": "2023-02-28T13:37:32.661102Z",
     "iopub.status.idle": "2023-02-28T13:37:32.667737Z",
     "shell.execute_reply": "2023-02-28T13:37:32.666589Z"
    },
    "papermill": {
     "duration": 0.02004,
     "end_time": "2023-02-28T13:37:32.670468",
     "exception": false,
     "start_time": "2023-02-28T13:37:32.650428",
     "status": "completed"
    },
    "tags": []
   },
   "outputs": [],
   "source": [
    "import pickle\n",
    "import os \n",
    "\n",
    "#saving the model\n",
    "# if not os.path.exists('models') :\n",
    "#       os.makedirs('models')\n",
    "        \n",
    "Model_Path = 'logistic_reg.sav'\n",
    "pickle.dump(reg, open(Model_Path, 'wb'))\n"
   ]
  },
  {
   "cell_type": "code",
   "execution_count": 19,
   "id": "a16f0346",
   "metadata": {
    "execution": {
     "iopub.execute_input": "2023-02-28T13:37:32.691320Z",
     "iopub.status.busy": "2023-02-28T13:37:32.690857Z",
     "iopub.status.idle": "2023-02-28T13:37:32.705274Z",
     "shell.execute_reply": "2023-02-28T13:37:32.703979Z"
    },
    "papermill": {
     "duration": 0.02827,
     "end_time": "2023-02-28T13:37:32.707737",
     "exception": false,
     "start_time": "2023-02-28T13:37:32.679467",
     "status": "completed"
    },
    "tags": []
   },
   "outputs": [
    {
     "data": {
      "text/plain": [
       "array([0])"
      ]
     },
     "execution_count": 19,
     "metadata": {},
     "output_type": "execute_result"
    }
   ],
   "source": [
    "#user defined data set\n",
    "data = [[5, 0, 33.7, 50, 150, 74, 0.5, 53]]\n",
    "#(not diabetic)\n",
    "\n",
    "#create the pandas DataFrame \n",
    "df = pd.DataFrame(data, columns = ['Pregnancies','Glucose','BloodPressure','SkinThickness','Insulin','BMI','DiabetesPedigreeFunction','Age'])\n",
    "\n",
    "#predict on new data\n",
    "ourmodelprediction = reg.predict(df)\n",
    "ourmodelprediction"
   ]
  },
  {
   "cell_type": "markdown",
   "id": "fc50a95e",
   "metadata": {
    "papermill": {
     "duration": 0.008801,
     "end_time": "2023-02-28T13:37:32.725408",
     "exception": false,
     "start_time": "2023-02-28T13:37:32.716607",
     "status": "completed"
    },
    "tags": []
   },
   "source": [
    "---\n",
    "# Thank You\n",
    "---"
   ]
  }
 ],
 "metadata": {
  "kernelspec": {
   "display_name": "Python 3",
   "language": "python",
   "name": "python3"
  },
  "language_info": {
   "codemirror_mode": {
    "name": "ipython",
    "version": 3
   },
   "file_extension": ".py",
   "mimetype": "text/x-python",
   "name": "python",
   "nbconvert_exporter": "python",
   "pygments_lexer": "ipython3",
   "version": "3.8.8"
  },
  "papermill": {
   "default_parameters": {},
   "duration": 13.815975,
   "end_time": "2023-02-28T13:37:33.558411",
   "environment_variables": {},
   "exception": null,
   "input_path": "__notebook__.ipynb",
   "output_path": "__notebook__.ipynb",
   "parameters": {},
   "start_time": "2023-02-28T13:37:19.742436",
   "version": "2.3.4"
  }
 },
 "nbformat": 4,
 "nbformat_minor": 5
}
